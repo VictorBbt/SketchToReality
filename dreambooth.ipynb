{
 "cells": [
  {
   "cell_type": "markdown",
   "metadata": {},
   "source": [
    "# Fine-tuning with Dreambooth\n",
    "\n",
    "Made to use on colab's GPU"
   ]
  },
  {
   "cell_type": "code",
   "execution_count": null,
   "metadata": {
    "vscode": {
     "languageId": "plaintext"
    }
   },
   "outputs": [],
   "source": [
    "!git clone https://github.com/huggingface/diffusers\n",
    "!cd diffusers\n",
    "!pip install .\n",
    "!cd examples/dreambooth\n",
    "!pip install -r requirements.txt\n",
    "!accelerate config default"
   ]
  },
  {
   "cell_type": "code",
   "execution_count": null,
   "metadata": {},
   "outputs": [],
   "source": [
    "# Downloading Dreambooth images\n",
    "\n",
    "!curl --output cat_sketch1.jpg 'our url here'\n",
    "!curl --output cat_sketch2.jpg 'our url here'\n",
    "!curl --output cat_sketch3.jpg 'our url here'"
   ]
  },
  {
   "cell_type": "code",
   "execution_count": null,
   "metadata": {},
   "outputs": [],
   "source": [
    "# Try to access drive from here to save the results"
   ]
  },
  {
   "cell_type": "code",
   "execution_count": null,
   "metadata": {},
   "outputs": [],
   "source": [
    "!accelerate launch train_dreambooth.py \\\n",
    "  --pretrained_model_name_or_path=\"runwayml/stable-diffusion-v1-5\"  \\\n",
    "  --instance_data_dir= 'data_dir/' \\\n",
    "  --output_dir='link to drive/Sketch to reality' \\\n",
    "  --instance_prompt=\"a photo of a sks cat\" \\\n",
    "  --resolution=512 \\\n",
    "  --train_batch_size=1 \\\n",
    "  --gradient_accumulation_steps=1 \\\n",
    "  --learning_rate=5e-6 \\\n",
    "  --lr_scheduler=\"constant\" \\\n",
    "  --lr_warmup_steps=0 \\\n",
    "  --max_train_steps=400 \\\n",
    "  --push_to_hub"
   ]
  }
 ],
 "metadata": {
  "language_info": {
   "name": "python"
  }
 },
 "nbformat": 4,
 "nbformat_minor": 2
}
