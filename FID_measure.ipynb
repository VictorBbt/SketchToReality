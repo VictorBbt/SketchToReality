{
 "cells": [
  {
   "cell_type": "markdown",
   "metadata": {},
   "source": [
    "# Frechet Inception Distance"
   ]
  },
  {
   "cell_type": "code",
   "execution_count": null,
   "metadata": {},
   "outputs": [],
   "source": [
    "# ! pip install pytorch-fid"
   ]
  },
  {
   "cell_type": "code",
   "execution_count": 1,
   "metadata": {},
   "outputs": [],
   "source": [
    "import os\n",
    "from PIL import Image\n",
    "import numpy as np\n",
    "import pandas as pd"
   ]
  },
  {
   "cell_type": "code",
   "execution_count": 2,
   "metadata": {},
   "outputs": [],
   "source": [
    "original_images = './Data/data/sketch/images_eval'\n",
    "Llava_prompt1 = './results_Llava_captioning/images_prompt1'\n",
    "Llava_prompt2 = './results_Llava_captioning/images_prompt2'\n",
    "Llava_prompt3 = './results_Llava_captioning/images_prompt3'"
   ]
  },
  {
   "cell_type": "code",
   "execution_count": 4,
   "metadata": {},
   "outputs": [
    {
     "name": "stdout",
     "output_type": "stream",
     "text": [
      "Downloading: \"https://github.com/mseitzer/pytorch-fid/releases/download/fid_weights/pt_inception-2015-12-05-6726825d.pth\" to /Users/victorbarberteguy/.cache/torch/hub/checkpoints/pt_inception-2015-12-05-6726825d.pth\n",
      "100%|██████████████████████████████████████| 91.2M/91.2M [00:02<00:00, 38.0MB/s]\n",
      "100%|█████████████████████████████████████████████| 2/2 [00:43<00:00, 21.91s/it]\n",
      "100%|█████████████████████████████████████████████| 2/2 [00:44<00:00, 22.21s/it]\n",
      "FID:  271.7275424309415\n"
     ]
    }
   ],
   "source": [
    "!python -m pytorch_fid './Data/data/sketch/images_eval' './results_Llava_captioning/images_prompt1'"
   ]
  },
  {
   "cell_type": "code",
   "execution_count": 5,
   "metadata": {},
   "outputs": [
    {
     "name": "stdout",
     "output_type": "stream",
     "text": [
      "100%|█████████████████████████████████████████████| 2/2 [00:41<00:00, 20.54s/it]\n",
      "100%|█████████████████████████████████████████████| 2/2 [00:44<00:00, 22.42s/it]\n",
      "FID:  272.94468524382\n"
     ]
    }
   ],
   "source": [
    "!python -m pytorch_fid './Data/data/sketch/images_eval' './results_Llava_captioning/images_prompt2'"
   ]
  },
  {
   "cell_type": "code",
   "execution_count": 6,
   "metadata": {},
   "outputs": [
    {
     "name": "stdout",
     "output_type": "stream",
     "text": [
      "100%|█████████████████████████████████████████████| 2/2 [00:41<00:00, 20.70s/it]\n",
      "100%|█████████████████████████████████████████████| 2/2 [00:45<00:00, 22.78s/it]\n",
      "FID:  272.16409631261126\n"
     ]
    }
   ],
   "source": [
    "!python -m pytorch_fid './Data/data/sketch/images_eval' './results_Llava_captioning/images_prompt3'"
   ]
  },
  {
   "cell_type": "code",
   "execution_count": 3,
   "metadata": {},
   "outputs": [
    {
     "name": "stdout",
     "output_type": "stream",
     "text": [
      "100%|█████████████████████████████████████████████| 2/2 [00:57<00:00, 28.81s/it]\n",
      "100%|█████████████████████████████████████████████| 2/2 [00:58<00:00, 29.25s/it]\n",
      "FID:  171.70924381028425\n"
     ]
    }
   ],
   "source": [
    "!python -m pytorch_fid './results_Llava_captioning/images_prompt1' './results_Llava_captioning/images_prompt2'"
   ]
  },
  {
   "cell_type": "code",
   "execution_count": 4,
   "metadata": {},
   "outputs": [
    {
     "name": "stdout",
     "output_type": "stream",
     "text": [
      "100%|█████████████████████████████████████████████| 2/2 [00:45<00:00, 22.89s/it]\n",
      "100%|█████████████████████████████████████████████| 2/2 [00:49<00:00, 24.94s/it]\n",
      "FID:  190.13385171586913\n"
     ]
    }
   ],
   "source": [
    "!python -m pytorch_fid './results_Llava_captioning/images_prompt2' './results_Llava_captioning/images_prompt3'"
   ]
  },
  {
   "cell_type": "code",
   "execution_count": 5,
   "metadata": {},
   "outputs": [
    {
     "name": "stdout",
     "output_type": "stream",
     "text": [
      "100%|█████████████████████████████████████████████| 2/2 [00:46<00:00, 23.11s/it]\n",
      "100%|█████████████████████████████████████████████| 2/2 [00:44<00:00, 22.40s/it]\n",
      "FID:  178.64596923625163\n"
     ]
    }
   ],
   "source": [
    "!python -m pytorch_fid './results_Llava_captioning/images_prompt1' './results_Llava_captioning/images_prompt3'"
   ]
  },
  {
   "cell_type": "code",
   "execution_count": 6,
   "metadata": {},
   "outputs": [
    {
     "name": "stdout",
     "output_type": "stream",
     "text": [
      "100%|█████████████████████████████████████████████| 2/2 [00:47<00:00, 23.97s/it]\n",
      "100%|█████████████████████████████████████████████| 2/2 [00:52<00:00, 26.22s/it]\n",
      "FID:  -0.00010161296768274042\n"
     ]
    }
   ],
   "source": [
    "!python -m pytorch_fid './results_Llava_captioning/images_prompt1' './results_Llava_captioning/images_prompt1'"
   ]
  },
  {
   "cell_type": "code",
   "execution_count": 34,
   "metadata": {},
   "outputs": [
    {
     "name": "stdout",
     "output_type": "stream",
     "text": [
      "100%|█████████████████████████████████████████████| 2/2 [00:49<00:00, 24.56s/it]\n",
      "100%|█████████████████████████████████████████████| 2/2 [00:42<00:00, 21.32s/it]\n",
      "FID:  232.99851873956658\n"
     ]
    }
   ],
   "source": [
    "!python -m pytorch_fid './Data/data/sketch/images_eval' './results_dreambooth/images_sks_cat'"
   ]
  },
  {
   "cell_type": "code",
   "execution_count": 35,
   "metadata": {},
   "outputs": [
    {
     "name": "stdout",
     "output_type": "stream",
     "text": [
      "100%|█████████████████████████████████████████████| 2/2 [00:43<00:00, 21.91s/it]\n",
      "100%|█████████████████████████████████████████████| 2/2 [00:39<00:00, 19.72s/it]\n",
      "FID:  229.20591484696388\n"
     ]
    }
   ],
   "source": [
    "!python -m pytorch_fid './Data/data/sketch/images_eval' './results_dreambooth/images_cat_style_sks'"
   ]
  },
  {
   "cell_type": "code",
   "execution_count": 36,
   "metadata": {},
   "outputs": [
    {
     "name": "stdout",
     "output_type": "stream",
     "text": [
      "100%|█████████████████████████████████████████████| 2/2 [00:36<00:00, 18.44s/it]\n",
      "100%|█████████████████████████████████████████████| 2/2 [00:38<00:00, 19.33s/it]\n",
      "FID:  253.07031839772736\n"
     ]
    }
   ],
   "source": [
    "!python -m pytorch_fid './Data/data/sketch/images_eval' './results_dreambooth/images_sequential'"
   ]
  },
  {
   "cell_type": "code",
   "execution_count": 37,
   "metadata": {},
   "outputs": [
    {
     "name": "stdout",
     "output_type": "stream",
     "text": [
      "100%|█████████████████████████████████████████████| 2/2 [00:46<00:00, 23.15s/it]\n",
      "100%|█████████████████████████████████████████████| 2/2 [00:43<00:00, 21.76s/it]\n",
      "FID:  273.08632101174305\n"
     ]
    }
   ],
   "source": [
    "!python -m pytorch_fid './Data/data/sketch/images_eval' './textual_inversion_results/textual_inversion_cat'"
   ]
  },
  {
   "cell_type": "code",
   "execution_count": null,
   "metadata": {},
   "outputs": [],
   "source": [
    "!python -m pytorch_fid './Data/data/sketch/images_eval' './textual_inversion_results/textual_inversion_all'"
   ]
  },
  {
   "cell_type": "markdown",
   "metadata": {},
   "source": [
    "### Generate Grid of Images"
   ]
  },
  {
   "cell_type": "code",
   "execution_count": 16,
   "metadata": {},
   "outputs": [],
   "source": [
    "from PIL import Image\n",
    "import numpy as np\n",
    "def image_grid(imgs, rows, cols):\n",
    "    assert len(imgs) == rows*cols\n",
    "\n",
    "    w, h = imgs[0].size\n",
    "    grid = Image.new('RGB', size=(cols*w, rows*h))\n",
    "    grid_w, grid_h = grid.size\n",
    "\n",
    "    for i, img in enumerate(imgs):\n",
    "        grid.paste(img, box=(i%cols*w, i//cols*h))\n",
    "    return grid"
   ]
  },
  {
   "cell_type": "code",
   "execution_count": 21,
   "metadata": {},
   "outputs": [],
   "source": [
    "def grid_from_dir(directory_path, nb_img_to_plot=25, n_row=5, n_col =5, output_dir='./mosaics/mosaic.png'):\n",
    "\n",
    "    generated_images= []\n",
    "    for i in os.listdir(directory_path):\n",
    "        generated_images.append(directory_path+ '/'+i)\n",
    "    generated_images = sorted(generated_images)\n",
    "    generated_images = [Image.open(f) for f in generated_images]\n",
    "    if(nb_img_to_plot  > len(generated_images)):\n",
    "        print(f'Too few images in directory: {len(generated_images)} to plot {nb_img_to_plot}')\n",
    "    else:\n",
    "        generated_images_trunc = generated_images[:nb_img_to_plot]\n",
    "    grid = image_grid(generated_images_trunc, rows=n_row, cols=n_col)\n",
    "    grid.save(output_dir)\n",
    "    return grid"
   ]
  },
  {
   "cell_type": "code",
   "execution_count": 25,
   "metadata": {},
   "outputs": [],
   "source": [
    "grid_sketchy = grid_from_dir('./Data/data/sketch/images_eval', output_dir='./mosaics/sketchy_mosaic_25.png')\n",
    "grid_sketchy = grid_from_dir('./Data/data/sketch/images_eval', nb_img_to_plot=50, n_row=5, n_col=10, output_dir='./mosaics/sketchy_mosaic_50.png')\n",
    "grid_sketchy = grid_from_dir('./Data/data/sketch/images_eval', nb_img_to_plot=100, n_row=10, n_col=10, output_dir='./mosaics/sketchy_mosaic_100.png')"
   ]
  },
  {
   "cell_type": "code",
   "execution_count": 26,
   "metadata": {},
   "outputs": [],
   "source": [
    "grid_llava_prompt1 = grid_from_dir('./results_Llava_captioning/images_prompt1', output_dir='./mosaics/llava_prompt1_25.png')\n",
    "grid_llava_prompt1 = grid_from_dir('./results_Llava_captioning/images_prompt1', nb_img_to_plot=50, n_row=5, n_col=10, output_dir='./mosaics/llava_prompt1_50.png')\n",
    "grid_llava_prompt1 = grid_from_dir('./results_Llava_captioning/images_prompt1', nb_img_to_plot=100, n_row=10, n_col=10, output_dir='./mosaics/llava_prompt1_100.png')"
   ]
  },
  {
   "cell_type": "code",
   "execution_count": 27,
   "metadata": {},
   "outputs": [],
   "source": [
    "grid_llava_prompt2 = grid_from_dir('./results_Llava_captioning/images_prompt2', output_dir='./mosaics/llava_prompt2_25.png')\n",
    "grid_llava_prompt2 = grid_from_dir('./results_Llava_captioning/images_prompt2', nb_img_to_plot=50, n_row=5, n_col=10, output_dir='./mosaics/llava_prompt2_50.png')\n",
    "grid_llava_prompt2 = grid_from_dir('./results_Llava_captioning/images_prompt2', nb_img_to_plot=100, n_row=10, n_col=10, output_dir='./mosaics/llava_prompt2_100.png')"
   ]
  },
  {
   "cell_type": "code",
   "execution_count": 28,
   "metadata": {},
   "outputs": [],
   "source": [
    "grid_llava_prompt3 = grid_from_dir('./results_Llava_captioning/images_prompt3', output_dir='./mosaics/llava_prompt3_25.png')\n",
    "grid_llava_prompt3 = grid_from_dir('./results_Llava_captioning/images_prompt3', nb_img_to_plot=50, n_row=5, n_col=10, output_dir='./mosaics/llava_prompt3_50.png')\n",
    "grid_llava_prompt3 = grid_from_dir('./results_Llava_captioning/images_prompt3', nb_img_to_plot=100, n_row=10, n_col=10, output_dir='./mosaics/llava_prompt3_100.png')"
   ]
  },
  {
   "cell_type": "code",
   "execution_count": 29,
   "metadata": {},
   "outputs": [],
   "source": [
    "grid_dreambooth_sks_cat = grid_from_dir('./results_dreambooth/images_sks_cat', output_dir='./mosaics/dreambooth_sks_cat_25.png')\n",
    "grid_dreambooth_sks_cat = grid_from_dir('./results_dreambooth/images_sks_cat', nb_img_to_plot=50, n_row=5, n_col=10, output_dir='./mosaics/dreambooth_sks_cat_50.png')\n",
    "grid_dreambooth_sks_cat = grid_from_dir('./results_dreambooth/images_sks_cat', nb_img_to_plot=100, n_row=10, n_col=10, output_dir='./mosaics/dreambooth_sks_cat_100.png')"
   ]
  },
  {
   "cell_type": "code",
   "execution_count": 30,
   "metadata": {},
   "outputs": [],
   "source": [
    "grid_dreambooth_cat_style_sks = grid_from_dir('./results_dreambooth/images_cat_style_sks', output_dir='./mosaics/dreambooth_cat_style_sks_25.png')\n",
    "grid_dreambooth_cat_style_sks = grid_from_dir('./results_dreambooth/images_cat_style_sks', nb_img_to_plot=50, n_row=5, n_col=10, output_dir='./mosaics/dreambooth_cat_style_sks_50.png')\n",
    "grid_dreambooth_cat_style_sks = grid_from_dir('./results_dreambooth/images_cat_style_sks', nb_img_to_plot=100, n_row=10, n_col=10, output_dir='./mosaics/dreambooth_cat_style_sks_100.png')"
   ]
  },
  {
   "cell_type": "code",
   "execution_count": 31,
   "metadata": {},
   "outputs": [],
   "source": [
    "grid_dreambooth_sequential = grid_from_dir('./results_dreambooth/images_sequential', output_dir='./mosaics/dreambooth_sequential_25.png')\n",
    "grid_dreambooth_sequential = grid_from_dir('./results_dreambooth/images_sequential', nb_img_to_plot=50, n_row=5, n_col=10, output_dir='./mosaics/dreambooth_sequential_50.png')\n",
    "grid_dreambooth_sequential = grid_from_dir('./results_dreambooth/images_sequential', nb_img_to_plot=100, n_row=10, n_col=10, output_dir='./mosaics/dreambooth_sequential_100.png')"
   ]
  },
  {
   "cell_type": "code",
   "execution_count": 32,
   "metadata": {},
   "outputs": [],
   "source": [
    "grid_textual_inversion_cat = grid_from_dir('./textual_inversion_results/textual_inversion_cat', output_dir='./mosaics/textual_inversion_cat_25.png')\n",
    "grid_textual_inversion_cat = grid_from_dir('./textual_inversion_results/textual_inversion_cat', nb_img_to_plot=50, n_row=5, n_col=10, output_dir='./mosaics/textual_inversion_cat_50.png')\n",
    "grid_textual_inversion_cat = grid_from_dir('./textual_inversion_results/textual_inversion_cat', nb_img_to_plot=100, n_row=10, n_col=10, output_dir='./mosaics/textual_inversion_cat_100.png')"
   ]
  },
  {
   "cell_type": "code",
   "execution_count": 33,
   "metadata": {},
   "outputs": [],
   "source": [
    "grid_textual_inversion_all = grid_from_dir('./textual_inversion_results/textual_inversion_all', output_dir='./mosaics/textual_inversion_all_25.png')\n",
    "grid_textual_inversion_all = grid_from_dir('./textual_inversion_results/textual_inversion_all', nb_img_to_plot=50, n_row=5, n_col=10, output_dir='./mosaics/textual_inversion_all_50.png')\n",
    "grid_textual_inversion_all = grid_from_dir('./textual_inversion_results/textual_inversion_all', nb_img_to_plot=100, n_row=10, n_col=10, output_dir='./mosaics/textual_inversion_all_100.png')"
   ]
  },
  {
   "cell_type": "markdown",
   "metadata": {},
   "source": [
    "Visualization for comparison"
   ]
  },
  {
   "cell_type": "code",
   "execution_count": null,
   "metadata": {},
   "outputs": [],
   "source": []
  }
 ],
 "metadata": {
  "kernelspec": {
   "display_name": "base",
   "language": "python",
   "name": "python3"
  },
  "language_info": {
   "codemirror_mode": {
    "name": "ipython",
    "version": 3
   },
   "file_extension": ".py",
   "mimetype": "text/x-python",
   "name": "python",
   "nbconvert_exporter": "python",
   "pygments_lexer": "ipython3",
   "version": "3.9.12"
  }
 },
 "nbformat": 4,
 "nbformat_minor": 2
}
