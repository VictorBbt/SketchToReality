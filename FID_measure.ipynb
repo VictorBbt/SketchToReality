{
 "cells": [
  {
   "cell_type": "markdown",
   "metadata": {},
   "source": [
    "# Frechet Inception Distance"
   ]
  },
  {
   "cell_type": "code",
   "execution_count": null,
   "metadata": {},
   "outputs": [],
   "source": [
    "# ! pip install pytorch-fid"
   ]
  },
  {
   "cell_type": "code",
   "execution_count": 1,
   "metadata": {},
   "outputs": [],
   "source": [
    "import os\n",
    "from PIL import Image\n",
    "import numpy as np\n",
    "import pandas as pd"
   ]
  },
  {
   "cell_type": "code",
   "execution_count": 2,
   "metadata": {},
   "outputs": [],
   "source": [
    "original_images = './Data/data/sketch/images_eval'\n",
    "Llava_prompt1 = './results_Llava_captioning/images_prompt1'\n",
    "Llava_prompt2 = './results_Llava_captioning/images_prompt2'\n",
    "Llava_prompt3 = './results_Llava_captioning/images_prompt3'"
   ]
  },
  {
   "cell_type": "code",
   "execution_count": 4,
   "metadata": {},
   "outputs": [
    {
     "name": "stdout",
     "output_type": "stream",
     "text": [
      "Downloading: \"https://github.com/mseitzer/pytorch-fid/releases/download/fid_weights/pt_inception-2015-12-05-6726825d.pth\" to /Users/victorbarberteguy/.cache/torch/hub/checkpoints/pt_inception-2015-12-05-6726825d.pth\n",
      "100%|██████████████████████████████████████| 91.2M/91.2M [00:02<00:00, 38.0MB/s]\n",
      "100%|█████████████████████████████████████████████| 2/2 [00:43<00:00, 21.91s/it]\n",
      "100%|█████████████████████████████████████████████| 2/2 [00:44<00:00, 22.21s/it]\n",
      "FID:  271.7275424309415\n"
     ]
    }
   ],
   "source": [
    "!python -m pytorch_fid './Data/data/sketch/images_eval' './results_Llava_captioning/images_prompt1'"
   ]
  },
  {
   "cell_type": "code",
   "execution_count": 5,
   "metadata": {},
   "outputs": [
    {
     "name": "stdout",
     "output_type": "stream",
     "text": [
      "100%|█████████████████████████████████████████████| 2/2 [00:41<00:00, 20.54s/it]\n",
      "100%|█████████████████████████████████████████████| 2/2 [00:44<00:00, 22.42s/it]\n",
      "FID:  272.94468524382\n"
     ]
    }
   ],
   "source": [
    "!python -m pytorch_fid './Data/data/sketch/images_eval' './results_Llava_captioning/images_prompt2'"
   ]
  },
  {
   "cell_type": "code",
   "execution_count": 6,
   "metadata": {},
   "outputs": [
    {
     "name": "stdout",
     "output_type": "stream",
     "text": [
      "100%|█████████████████████████████████████████████| 2/2 [00:41<00:00, 20.70s/it]\n",
      "100%|█████████████████████████████████████████████| 2/2 [00:45<00:00, 22.78s/it]\n",
      "FID:  272.16409631261126\n"
     ]
    }
   ],
   "source": [
    "!python -m pytorch_fid './Data/data/sketch/images_eval' './results_Llava_captioning/images_prompt3'"
   ]
  }
 ],
 "metadata": {
  "kernelspec": {
   "display_name": "base",
   "language": "python",
   "name": "python3"
  },
  "language_info": {
   "codemirror_mode": {
    "name": "ipython",
    "version": 3
   },
   "file_extension": ".py",
   "mimetype": "text/x-python",
   "name": "python",
   "nbconvert_exporter": "python",
   "pygments_lexer": "ipython3",
   "version": "3.9.12"
  }
 },
 "nbformat": 4,
 "nbformat_minor": 2
}
