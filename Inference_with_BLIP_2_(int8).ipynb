{
  "nbformat": 4,
  "nbformat_minor": 0,
  "metadata": {
    "colab": {
      "provenance": [],
      "machine_shape": "hm",
      "include_colab_link": true
    },
    "kernelspec": {
      "name": "python3",
      "display_name": "Python 3"
    },
    "language_info": {
      "name": "python"
    },
    "accelerator": "GPU",
    "gpuClass": "standard",
    "widgets": {
      "application/vnd.jupyter.widget-state+json": {
        "9833a4dd16a64ff5b9d0a57bbeb392be": {
          "model_module": "@jupyter-widgets/controls",
          "model_name": "HBoxModel",
          "model_module_version": "1.5.0",
          "state": {
            "_dom_classes": [],
            "_model_module": "@jupyter-widgets/controls",
            "_model_module_version": "1.5.0",
            "_model_name": "HBoxModel",
            "_view_count": null,
            "_view_module": "@jupyter-widgets/controls",
            "_view_module_version": "1.5.0",
            "_view_name": "HBoxView",
            "box_style": "",
            "children": [
              "IPY_MODEL_00ffe95f1ba543b3a7d8685e4ebf55ac",
              "IPY_MODEL_13a08f88bad24e9193f3d29f976ffe0e",
              "IPY_MODEL_1de0819f457c40c1b8bd4208f8eee21d"
            ],
            "layout": "IPY_MODEL_c3c856a47477413da6b0138d9a9a0a25"
          }
        },
        "00ffe95f1ba543b3a7d8685e4ebf55ac": {
          "model_module": "@jupyter-widgets/controls",
          "model_name": "HTMLModel",
          "model_module_version": "1.5.0",
          "state": {
            "_dom_classes": [],
            "_model_module": "@jupyter-widgets/controls",
            "_model_module_version": "1.5.0",
            "_model_name": "HTMLModel",
            "_view_count": null,
            "_view_module": "@jupyter-widgets/controls",
            "_view_module_version": "1.5.0",
            "_view_name": "HTMLView",
            "description": "",
            "description_tooltip": null,
            "layout": "IPY_MODEL_395220281c74499ea4e711d45498babf",
            "placeholder": "​",
            "style": "IPY_MODEL_3ad0471d6a9940f487e0e977bf0fc0d9",
            "value": "Loading checkpoint shards: 100%"
          }
        },
        "13a08f88bad24e9193f3d29f976ffe0e": {
          "model_module": "@jupyter-widgets/controls",
          "model_name": "FloatProgressModel",
          "model_module_version": "1.5.0",
          "state": {
            "_dom_classes": [],
            "_model_module": "@jupyter-widgets/controls",
            "_model_module_version": "1.5.0",
            "_model_name": "FloatProgressModel",
            "_view_count": null,
            "_view_module": "@jupyter-widgets/controls",
            "_view_module_version": "1.5.0",
            "_view_name": "ProgressView",
            "bar_style": "success",
            "description": "",
            "description_tooltip": null,
            "layout": "IPY_MODEL_649305307d9b403f9fdb289772a238bb",
            "max": 2,
            "min": 0,
            "orientation": "horizontal",
            "style": "IPY_MODEL_d8bc37eee4074ac9998d00a6822491c8",
            "value": 2
          }
        },
        "1de0819f457c40c1b8bd4208f8eee21d": {
          "model_module": "@jupyter-widgets/controls",
          "model_name": "HTMLModel",
          "model_module_version": "1.5.0",
          "state": {
            "_dom_classes": [],
            "_model_module": "@jupyter-widgets/controls",
            "_model_module_version": "1.5.0",
            "_model_name": "HTMLModel",
            "_view_count": null,
            "_view_module": "@jupyter-widgets/controls",
            "_view_module_version": "1.5.0",
            "_view_name": "HTMLView",
            "description": "",
            "description_tooltip": null,
            "layout": "IPY_MODEL_4d394e879085490683178c3301038fde",
            "placeholder": "​",
            "style": "IPY_MODEL_2c6781776cf948a69eaff6c615bea0bc",
            "value": " 2/2 [01:18&lt;00:00, 37.00s/it]"
          }
        },
        "c3c856a47477413da6b0138d9a9a0a25": {
          "model_module": "@jupyter-widgets/base",
          "model_name": "LayoutModel",
          "model_module_version": "1.2.0",
          "state": {
            "_model_module": "@jupyter-widgets/base",
            "_model_module_version": "1.2.0",
            "_model_name": "LayoutModel",
            "_view_count": null,
            "_view_module": "@jupyter-widgets/base",
            "_view_module_version": "1.2.0",
            "_view_name": "LayoutView",
            "align_content": null,
            "align_items": null,
            "align_self": null,
            "border": null,
            "bottom": null,
            "display": null,
            "flex": null,
            "flex_flow": null,
            "grid_area": null,
            "grid_auto_columns": null,
            "grid_auto_flow": null,
            "grid_auto_rows": null,
            "grid_column": null,
            "grid_gap": null,
            "grid_row": null,
            "grid_template_areas": null,
            "grid_template_columns": null,
            "grid_template_rows": null,
            "height": null,
            "justify_content": null,
            "justify_items": null,
            "left": null,
            "margin": null,
            "max_height": null,
            "max_width": null,
            "min_height": null,
            "min_width": null,
            "object_fit": null,
            "object_position": null,
            "order": null,
            "overflow": null,
            "overflow_x": null,
            "overflow_y": null,
            "padding": null,
            "right": null,
            "top": null,
            "visibility": null,
            "width": null
          }
        },
        "395220281c74499ea4e711d45498babf": {
          "model_module": "@jupyter-widgets/base",
          "model_name": "LayoutModel",
          "model_module_version": "1.2.0",
          "state": {
            "_model_module": "@jupyter-widgets/base",
            "_model_module_version": "1.2.0",
            "_model_name": "LayoutModel",
            "_view_count": null,
            "_view_module": "@jupyter-widgets/base",
            "_view_module_version": "1.2.0",
            "_view_name": "LayoutView",
            "align_content": null,
            "align_items": null,
            "align_self": null,
            "border": null,
            "bottom": null,
            "display": null,
            "flex": null,
            "flex_flow": null,
            "grid_area": null,
            "grid_auto_columns": null,
            "grid_auto_flow": null,
            "grid_auto_rows": null,
            "grid_column": null,
            "grid_gap": null,
            "grid_row": null,
            "grid_template_areas": null,
            "grid_template_columns": null,
            "grid_template_rows": null,
            "height": null,
            "justify_content": null,
            "justify_items": null,
            "left": null,
            "margin": null,
            "max_height": null,
            "max_width": null,
            "min_height": null,
            "min_width": null,
            "object_fit": null,
            "object_position": null,
            "order": null,
            "overflow": null,
            "overflow_x": null,
            "overflow_y": null,
            "padding": null,
            "right": null,
            "top": null,
            "visibility": null,
            "width": null
          }
        },
        "3ad0471d6a9940f487e0e977bf0fc0d9": {
          "model_module": "@jupyter-widgets/controls",
          "model_name": "DescriptionStyleModel",
          "model_module_version": "1.5.0",
          "state": {
            "_model_module": "@jupyter-widgets/controls",
            "_model_module_version": "1.5.0",
            "_model_name": "DescriptionStyleModel",
            "_view_count": null,
            "_view_module": "@jupyter-widgets/base",
            "_view_module_version": "1.2.0",
            "_view_name": "StyleView",
            "description_width": ""
          }
        },
        "649305307d9b403f9fdb289772a238bb": {
          "model_module": "@jupyter-widgets/base",
          "model_name": "LayoutModel",
          "model_module_version": "1.2.0",
          "state": {
            "_model_module": "@jupyter-widgets/base",
            "_model_module_version": "1.2.0",
            "_model_name": "LayoutModel",
            "_view_count": null,
            "_view_module": "@jupyter-widgets/base",
            "_view_module_version": "1.2.0",
            "_view_name": "LayoutView",
            "align_content": null,
            "align_items": null,
            "align_self": null,
            "border": null,
            "bottom": null,
            "display": null,
            "flex": null,
            "flex_flow": null,
            "grid_area": null,
            "grid_auto_columns": null,
            "grid_auto_flow": null,
            "grid_auto_rows": null,
            "grid_column": null,
            "grid_gap": null,
            "grid_row": null,
            "grid_template_areas": null,
            "grid_template_columns": null,
            "grid_template_rows": null,
            "height": null,
            "justify_content": null,
            "justify_items": null,
            "left": null,
            "margin": null,
            "max_height": null,
            "max_width": null,
            "min_height": null,
            "min_width": null,
            "object_fit": null,
            "object_position": null,
            "order": null,
            "overflow": null,
            "overflow_x": null,
            "overflow_y": null,
            "padding": null,
            "right": null,
            "top": null,
            "visibility": null,
            "width": null
          }
        },
        "d8bc37eee4074ac9998d00a6822491c8": {
          "model_module": "@jupyter-widgets/controls",
          "model_name": "ProgressStyleModel",
          "model_module_version": "1.5.0",
          "state": {
            "_model_module": "@jupyter-widgets/controls",
            "_model_module_version": "1.5.0",
            "_model_name": "ProgressStyleModel",
            "_view_count": null,
            "_view_module": "@jupyter-widgets/base",
            "_view_module_version": "1.2.0",
            "_view_name": "StyleView",
            "bar_color": null,
            "description_width": ""
          }
        },
        "4d394e879085490683178c3301038fde": {
          "model_module": "@jupyter-widgets/base",
          "model_name": "LayoutModel",
          "model_module_version": "1.2.0",
          "state": {
            "_model_module": "@jupyter-widgets/base",
            "_model_module_version": "1.2.0",
            "_model_name": "LayoutModel",
            "_view_count": null,
            "_view_module": "@jupyter-widgets/base",
            "_view_module_version": "1.2.0",
            "_view_name": "LayoutView",
            "align_content": null,
            "align_items": null,
            "align_self": null,
            "border": null,
            "bottom": null,
            "display": null,
            "flex": null,
            "flex_flow": null,
            "grid_area": null,
            "grid_auto_columns": null,
            "grid_auto_flow": null,
            "grid_auto_rows": null,
            "grid_column": null,
            "grid_gap": null,
            "grid_row": null,
            "grid_template_areas": null,
            "grid_template_columns": null,
            "grid_template_rows": null,
            "height": null,
            "justify_content": null,
            "justify_items": null,
            "left": null,
            "margin": null,
            "max_height": null,
            "max_width": null,
            "min_height": null,
            "min_width": null,
            "object_fit": null,
            "object_position": null,
            "order": null,
            "overflow": null,
            "overflow_x": null,
            "overflow_y": null,
            "padding": null,
            "right": null,
            "top": null,
            "visibility": null,
            "width": null
          }
        },
        "2c6781776cf948a69eaff6c615bea0bc": {
          "model_module": "@jupyter-widgets/controls",
          "model_name": "DescriptionStyleModel",
          "model_module_version": "1.5.0",
          "state": {
            "_model_module": "@jupyter-widgets/controls",
            "_model_module_version": "1.5.0",
            "_model_name": "DescriptionStyleModel",
            "_view_count": null,
            "_view_module": "@jupyter-widgets/base",
            "_view_module_version": "1.2.0",
            "_view_name": "StyleView",
            "description_width": ""
          }
        }
      }
    }
  },
  "cells": [
    {
      "cell_type": "markdown",
      "metadata": {
        "id": "view-in-github",
        "colab_type": "text"
      },
      "source": [
        "<a href=\"https://colab.research.google.com/github/VictorBbt/SketchToReality/blob/main/Inference_with_BLIP_2_(int8).ipynb\" target=\"_parent\"><img src=\"https://colab.research.google.com/assets/colab-badge.svg\" alt=\"Open In Colab\"/></a>"
      ]
    },
    {
      "cell_type": "markdown",
      "source": [
        "# Chat with BLIP-2\n",
        "\n",
        "In this notebook, we'll illustrate the new BLIP-2 model by Salesforce, which can be used for state-of-the-art image captioning, visual question answering and overall chatting related to images.\n",
        "\n",
        "In this notebook, we'll showcase the [int8 quantization algorithm](https://huggingface.co/blog/hf-bitsandbytes-integration) by bitsandbytes, which allows to run giant model on fairly common hardware, like the hardware powering Google Colab.\n",
        "\n",
        "## Set-up environment\n",
        "\n",
        "We'll start by installing 🤗 Transformers. As the model is brand new at the time of writing this notebook, we install it from source.\n",
        "\n",
        "Note that it's advised to run this notebook on a GPU environment, high RAM."
      ],
      "metadata": {
        "id": "lbdwxvFIekQ1"
      }
    },
    {
      "cell_type": "code",
      "execution_count": null,
      "metadata": {
        "colab": {
          "base_uri": "https://localhost:8080/"
        },
        "id": "MgaqAI5ZeSHx",
        "outputId": "8ab17cd6-99fe-4d69-c9c0-87124220d027"
      },
      "outputs": [
        {
          "output_type": "stream",
          "name": "stdout",
          "text": [
            "  Installing build dependencies ... \u001b[?25l\u001b[?25hdone\n",
            "  Getting requirements to build wheel ... \u001b[?25l\u001b[?25hdone\n",
            "  Preparing metadata (pyproject.toml) ... \u001b[?25l\u001b[?25hdone\n",
            "\u001b[2K     \u001b[90m━━━━━━━━━━━━━━━━━━━━━━━━━━━━━━━━━━━━━━━━\u001b[0m \u001b[32m280.0/280.0 kB\u001b[0m \u001b[31m6.5 MB/s\u001b[0m eta \u001b[36m0:00:00\u001b[0m\n",
            "\u001b[2K     \u001b[90m━━━━━━━━━━━━━━━━━━━━━━━━━━━━━━━━━━━━━━━━\u001b[0m \u001b[32m105.0/105.0 MB\u001b[0m \u001b[31m8.7 MB/s\u001b[0m eta \u001b[36m0:00:00\u001b[0m\n",
            "\u001b[?25h  Building wheel for transformers (pyproject.toml) ... \u001b[?25l\u001b[?25hdone\n"
          ]
        }
      ],
      "source": [
        "!pip install -q git+https://github.com/huggingface/transformers.git accelerate bitsandbytes"
      ]
    },
    {
      "cell_type": "code",
      "source": [
        "#import requests\n",
        "#from PIL import Image\n",
        "\n",
        "#url = 'https://storage.googleapis.com/sfr-vision-language-research/LAVIS/assets/merlion.png'\n",
        "#image = Image.open(requests.get(url, stream=True).raw).convert('RGB')\n",
        "#display(image.resize((596, 437)))"
      ],
      "metadata": {
        "id": "DWOBTLKXellL"
      },
      "execution_count": null,
      "outputs": []
    },
    {
      "cell_type": "markdown",
      "source": [
        "## Load model and processor\n",
        "\n",
        "We can instantiate the model and its corresponding processor from the [hub](https://huggingface.co/models?other=blip-2). Here we load a BLIP-2 checkpoint that leverages the pre-trained OPT model by Meta AI, which as 2.7 billion parameters."
      ],
      "metadata": {
        "id": "mS1zpJMqfVH2"
      }
    },
    {
      "cell_type": "code",
      "source": [
        "from transformers import AutoProcessor, Blip2ForConditionalGeneration\n",
        "import torch\n",
        "\n",
        "processor = AutoProcessor.from_pretrained(\"Salesforce/blip2-opt-2.7b\")\n",
        "\n",
        "# there are several ways to load the model:\n",
        "# model = Blip2ForConditionalGeneration.from_pretrained(\"Salesforce/blip2-opt-2.7b\") # load in float32\n",
        "# model = Blip2ForConditionalGeneration.from_pretrained(\"Salesforce/blip2-opt-2.7b\", torch_dtype=torch.float16) # load in float16\n",
        "model = Blip2ForConditionalGeneration.from_pretrained(\"Salesforce/blip2-opt-2.7b\", device_map=\"auto\", load_in_8bit=True) # load in int8\n",
        "\n",
        "# here we use int8 since float32 is too big to fit in the RAM with colab, and float16 is not supported on CPU"
      ],
      "metadata": {
        "colab": {
          "base_uri": "https://localhost:8080/",
          "height": 86,
          "referenced_widgets": [
            "9833a4dd16a64ff5b9d0a57bbeb392be",
            "00ffe95f1ba543b3a7d8685e4ebf55ac",
            "13a08f88bad24e9193f3d29f976ffe0e",
            "1de0819f457c40c1b8bd4208f8eee21d",
            "c3c856a47477413da6b0138d9a9a0a25",
            "395220281c74499ea4e711d45498babf",
            "3ad0471d6a9940f487e0e977bf0fc0d9",
            "649305307d9b403f9fdb289772a238bb",
            "d8bc37eee4074ac9998d00a6822491c8",
            "4d394e879085490683178c3301038fde",
            "2c6781776cf948a69eaff6c615bea0bc"
          ]
        },
        "id": "Ebas399gfUIF",
        "outputId": "e2ead9b6-f0bb-4a9d-9905-e9e4c2460cba"
      },
      "execution_count": null,
      "outputs": [
        {
          "output_type": "stream",
          "name": "stderr",
          "text": [
            "The `load_in_4bit` and `load_in_8bit` arguments are deprecated and will be removed in the future versions. Please, pass a `BitsAndBytesConfig` object in `quantization_config` argument instead.\n"
          ]
        },
        {
          "output_type": "display_data",
          "data": {
            "text/plain": [
              "Loading checkpoint shards:   0%|          | 0/2 [00:00<?, ?it/s]"
            ],
            "application/vnd.jupyter.widget-view+json": {
              "version_major": 2,
              "version_minor": 0,
              "model_id": "9833a4dd16a64ff5b9d0a57bbeb392be"
            }
          },
          "metadata": {}
        }
      ]
    },
    {
      "cell_type": "markdown",
      "source": [
        "## Load Sketchy dataset"
      ],
      "metadata": {
        "id": "GUmIGVgTeq6c"
      }
    },
    {
      "cell_type": "markdown",
      "source": [
        "First, let's mount our Google Drive content"
      ],
      "metadata": {
        "id": "mwliJCpqZdVF"
      }
    },
    {
      "cell_type": "code",
      "source": [
        "from google.colab import drive\n",
        "drive.mount('/content/drive')"
      ],
      "metadata": {
        "id": "NDjYgnSIDF91",
        "outputId": "7659a8c1-c842-465f-9bc5-c6bc94ffd58a",
        "colab": {
          "base_uri": "https://localhost:8080/"
        }
      },
      "execution_count": null,
      "outputs": [
        {
          "output_type": "stream",
          "name": "stdout",
          "text": [
            "Mounted at /content/drive\n"
          ]
        }
      ]
    },
    {
      "cell_type": "code",
      "source": [
        "%cd drive/MyDrive/SketchToReality/"
      ],
      "metadata": {
        "id": "_YUjFJmk58bX",
        "outputId": "a9cfce20-2716-4660-cae7-90966707377b",
        "colab": {
          "base_uri": "https://localhost:8080/"
        }
      },
      "execution_count": null,
      "outputs": [
        {
          "output_type": "stream",
          "name": "stdout",
          "text": [
            "/content/drive/.shortcut-targets-by-id/1CWuL-Kv12lc1O0peSApcvTKUaHIxphWx/SketchToReality\n"
          ]
        }
      ]
    },
    {
      "cell_type": "code",
      "source": [
        "from PIL import Image\n",
        "import os\n",
        "import numpy as np\n",
        "import glob\n",
        "\n",
        "sketch_path = './Data/data/sketch/tx_000000000000/*/*'\n",
        "list_all_files = []\n",
        "for file in glob.glob(sketch_path, recursive=True):\n",
        "    list_all_files.append(file)"
      ],
      "metadata": {
        "id": "53xMnWFk6Aut"
      },
      "execution_count": null,
      "outputs": []
    },
    {
      "cell_type": "code",
      "source": [
        "random_sketch_idx = np.random.randint(0, len(list_all_files))\n",
        "random_sketch_path = list_all_files[random_sketch_idx]\n",
        "label = random_sketch_path.split(sep='/')[-2]\n",
        "RandomSketch = Image.open(random_sketch_path)\n",
        "print(f'Label: {label}')\n",
        "display(RandomSketch)"
      ],
      "metadata": {
        "id": "azGBqQwq526w",
        "outputId": "e110dd11-bdf8-44a4-f5f3-fdc3834096b9",
        "colab": {
          "base_uri": "https://localhost:8080/",
          "height": 290
        }
      },
      "execution_count": null,
      "outputs": [
        {
          "output_type": "stream",
          "name": "stdout",
          "text": [
            "Label: church\n"
          ]
        },
        {
          "output_type": "display_data",
          "data": {
            "text/plain": [
              "<PIL.PngImagePlugin.PngImageFile image mode=RGB size=256x256>"
            ],
            "image/png": "[encoded data removed]"
          },
          "metadata": {}
        }
      ]
    },
    {
      "cell_type": "markdown",
      "source": [
        "## Image captioning\n",
        "\n",
        "If you don't provide any text prompt, then the model will by default start generating text from the BOS (beginning-of-sequence) token. So it will generate a caption for the image."
      ],
      "metadata": {
        "id": "a2JrGIO19-hH"
      }
    },
    {
      "cell_type": "code",
      "source": [
        "inputs = processor(RandomSketch, return_tensors=\"pt\")\n",
        "\n",
        "generated_ids = model.generate(**inputs, max_new_tokens=20)\n",
        "generated_text = processor.batch_decode(generated_ids, skip_special_tokens=True)[0].strip()\n",
        "print(generated_text)"
      ],
      "metadata": {
        "colab": {
          "base_uri": "https://localhost:8080/"
        },
        "id": "24jOWISkfeHA",
        "outputId": "f7204aa4-ac95-4c23-85d1-a20062ff4349"
      },
      "execution_count": null,
      "outputs": [
        {
          "output_type": "stream",
          "name": "stdout",
          "text": [
            "a drawing of a person with a face and a hat\n"
          ]
        }
      ]
    },
    {
      "cell_type": "markdown",
      "source": [
        "## Prompted image captioning\n",
        "\n",
        "You can provide a text prompt, which the model will continue given the image."
      ],
      "metadata": {
        "id": "aOC6_ocjBBvO"
      }
    },
    {
      "cell_type": "code",
      "source": [
        "prompt = \"this is a art sketch of\"\n",
        "\n",
        "inputs = processor(RandomSketch, text=prompt, return_tensors=\"pt\")\n",
        "\n",
        "generated_ids = model.generate(**inputs, max_new_tokens=20)\n",
        "generated_text = processor.batch_decode(generated_ids, skip_special_tokens=True)[0].strip()\n",
        "print(generated_text)"
      ],
      "metadata": {
        "colab": {
          "base_uri": "https://localhost:8080/"
        },
        "id": "nxq1Gl9SDD5B",
        "outputId": "f8cf4796-7c6d-41ea-eda0-f3b08cfcf734"
      },
      "execution_count": null,
      "outputs": [
        {
          "output_type": "stream",
          "name": "stdout",
          "text": [
            "a person with a face\n"
          ]
        }
      ]
    },
    {
      "cell_type": "code",
      "source": [
        "prompt = \"the view point of this art sketch is\"\n",
        "\n",
        "inputs = processor(RandomSketch, text=prompt, return_tensors=\"pt\")\n",
        "\n",
        "generated_ids = model.generate(**inputs, max_new_tokens=20)\n",
        "generated_text = processor.batch_decode(generated_ids, skip_special_tokens=True)[0].strip()\n",
        "print(generated_text)"
      ],
      "metadata": {
        "colab": {
          "base_uri": "https://localhost:8080/"
        },
        "id": "YPIwJGSYDL3x",
        "outputId": "314092bd-a6fa-4c68-972e-b8bd48b049f6"
      },
      "execution_count": null,
      "outputs": [
        {
          "output_type": "stream",
          "name": "stdout",
          "text": [
            "the view of the person\n"
          ]
        }
      ]
    },
    {
      "cell_type": "markdown",
      "source": [
        "## Visual question answering (VQA)"
      ],
      "metadata": {
        "id": "eZRGKv7wDSA6"
      }
    },
    {
      "cell_type": "code",
      "source": [
        "prompt = \"Question: what is represented in this sketch and how is it portrayed? Answer:\"\n",
        "\n",
        "inputs = processor(RandomSketch, text=prompt, return_tensors=\"pt\")\n",
        "\n",
        "generated_ids = model.generate(**inputs, max_new_tokens=10)\n",
        "generated_text = processor.batch_decode(generated_ids, skip_special_tokens=True)[0].strip()\n",
        "print(generated_text)"
      ],
      "metadata": {
        "colab": {
          "base_uri": "https://localhost:8080/"
        },
        "id": "5chfSqSTDarV",
        "outputId": "e0d8fd03-fef9-498c-f679-b70bd8c40365"
      },
      "execution_count": null,
      "outputs": [
        {
          "output_type": "stream",
          "name": "stdout",
          "text": [
            "the head of a man\n"
          ]
        }
      ]
    },
    {
      "cell_type": "markdown",
      "source": [
        "## Chat-based prompting\n",
        "\n",
        "We can create a ChatGPT-like interface by simply concatenating each generated response to the conversation. We prompt the model with some text (like \"which city is this?\"), the model generates an answer for it \"Singapore\"), which we just concatenate to the conversation. Then we ask a follow-up question (\"why?\") which we also just concatenate and feed to the model.\n",
        "\n",
        "This means that the context can't be too long - models like OPT and T5 (the language models being used in BLIP-2) have a context length of 512 tokens."
      ],
      "metadata": {
        "id": "RqW_tSCBD6r-"
      }
    },
    {
      "cell_type": "code",
      "source": [
        "context = [\n",
        "    (\"what is this image?\", \"it is an art sketch, a drawing\"),\n",
        "    (\"what is represented by this sketch?\", \"it represents a \" + label),\n",
        "]\n",
        "question = \"what is the most detailed description of this sketch?\"\n",
        "template = \"Question: {} Answer: {}.\"\n",
        "\n",
        "prompt = \" \".join([template.format(context[i][0], context[i][1]) for i in range(len(context))]) + \" Question: \" + question + \" Answer:\"\n",
        "\n",
        "print(prompt)"
      ],
      "metadata": {
        "colab": {
          "base_uri": "https://localhost:8080/"
        },
        "id": "w_MCyj-VDhwz",
        "outputId": "2793c1b8-2f32-4519-d2c3-9ef347017ad4"
      },
      "execution_count": null,
      "outputs": [
        {
          "output_type": "stream",
          "name": "stdout",
          "text": [
            "Question: what is this image? Answer: it is an art sketch, a drawing. Question: what is represented by this sketch? Answer: it represents a church. Question: what is the most detailed description of this sketch? Answer:\n"
          ]
        }
      ]
    },
    {
      "cell_type": "code",
      "source": [
        "inputs = processor(RandomSketch, text=prompt, return_tensors=\"pt\") #.to(device, torch.float16)\n",
        "\n",
        "generated_ids = model.generate(**inputs, max_new_tokens=10)\n",
        "generated_text = processor.batch_decode(generated_ids, skip_special_tokens=True)[0].strip()\n",
        "print(generated_text)"
      ],
      "metadata": {
        "colab": {
          "base_uri": "https://localhost:8080/"
        },
        "id": "gdKoQAknEEtt",
        "outputId": "97e38b72-bb55-4ffc-bb6d-92f2cb3e0254"
      },
      "execution_count": null,
      "outputs": [
        {
          "output_type": "stream",
          "name": "stdout",
          "text": [
            "it is a church.\n"
          ]
        }
      ]
    },
    {
      "cell_type": "code",
      "source": [],
      "metadata": {
        "id": "RrGbcAVeEGFT"
      },
      "execution_count": null,
      "outputs": []
    }
  ]
}